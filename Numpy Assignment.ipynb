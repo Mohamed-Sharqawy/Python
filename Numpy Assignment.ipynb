{
 "cells": [
  {
   "cell_type": "markdown",
   "id": "9fec8304-501a-4904-855d-b4c7bb5d81dd",
   "metadata": {},
   "source": [
    "<h2>Numpy project 1.</h2>"
   ]
  },
  {
   "cell_type": "code",
   "execution_count": 3,
   "id": "63aa0ab2-e7c0-4e27-8b63-e1c1adb9798b",
   "metadata": {},
   "outputs": [],
   "source": [
    "import numpy as np"
   ]
  },
  {
   "cell_type": "markdown",
   "id": "d3c7c798-f1de-45b6-be0a-ad59730b5f6a",
   "metadata": {},
   "source": [
    "<h4>Load the dataset into a NumPy array.</h4>"
   ]
  },
  {
   "cell_type": "code",
   "execution_count": 5,
   "id": "4d3801c2-14a9-4b4a-a998-9d8280faf075",
   "metadata": {},
   "outputs": [],
   "source": [
    "# Dataset: Price ($), Square Footage, Bedrooms\n",
    "data = np.array([\n",
    "    [450000, 2000, 3],\n",
    "    [375000, 1800, 3],\n",
    "    [520000, 2200, 4],\n",
    "    [610000, 2400, 4],\n",
    "    [340000, 1500, 2],\n",
    "    [480000, 2100, 3],\n",
    "    [275000, 1300, 2]\n",
    "])"
   ]
  },
  {
   "cell_type": "markdown",
   "id": "a51e5647-9e65-4a6a-9a07-85385b8cae2f",
   "metadata": {},
   "source": [
    "<h4>Compute the following statistics:</h4> \r",
    "        \n",
    "o Mean, median, and standard deviation of prices.</br>         \r\n",
    "o The minimum and maximum square footage4>"
   ]
  },
  {
   "cell_type": "code",
   "execution_count": 11,
   "id": "c77986ce-21d9-4b25-ad2b-219adb5d249d",
   "metadata": {},
   "outputs": [
    {
     "name": "stdout",
     "output_type": "stream",
     "text": [
      "The Mean prices is : 435714.28571428574\n",
      "The Median of prices is : 450000.0\n",
      "The Standard Deviation of prices is : 105777.00841961868\n",
      "The Minimum square footage is : 1300\n",
      "The Maximum square footage is : 2400\n"
     ]
    }
   ],
   "source": [
    "# 1. Compute mean, median, and standard deviation of prices\n",
    "prices = data[:, 0]\n",
    "mean_price = np.mean(prices)\n",
    "median_price = np.median(prices)\n",
    "std_price = np.std(prices)\n",
    "print(f\"\"\"The Mean prices is : {mean_price}\n",
    "The Median of prices is : {median_price}\n",
    "The Standard Deviation of prices is : {std_price}\"\"\")\n",
    "# 2. Minimum and maximum square footage\n",
    "square_footage = data[:, 1]\n",
    "min_sq_ft = np.min(square_footage)\n",
    "max_sq_ft = np.max(square_footage)\n",
    "print(f\"\"\"The Minimum square footage is : {min_sq_ft}\n",
    "The Maximum square footage is : {max_sq_ft}\"\"\")"
   ]
  },
  {
   "cell_type": "markdown",
   "id": "85a2c435-7fa6-4a07-8711-2b20950eefb2",
   "metadata": {},
   "source": [
    "<h3>Find the average price per bedroom. </h3>"
   ]
  },
  {
   "cell_type": "code",
   "execution_count": 13,
   "id": "a56c1539-9f79-42fe-b28f-45a19f825184",
   "metadata": {},
   "outputs": [
    {
     "name": "stdout",
     "output_type": "stream",
     "text": [
      "The average price per bedroom is : 146428.57142857142\n"
     ]
    }
   ],
   "source": [
    "bedrooms = data[:, 2]\n",
    "average_price_per_bedroom = np.mean(prices / bedrooms)\n",
    "print(f\"The average price per bedroom is : {average_price_per_bedroom}\")"
   ]
  },
  {
   "cell_type": "markdown",
   "id": "2f4d1eb9-397c-46d0-b33f-d0cc4e53a385",
   "metadata": {},
   "source": [
    "<h3>Determine the correlation between price and square footage.</h3>"
   ]
  },
  {
   "cell_type": "code",
   "execution_count": 15,
   "id": "be46a486-819d-4317-8725-1ecc4eb2c9cc",
   "metadata": {},
   "outputs": [
    {
     "name": "stdout",
     "output_type": "stream",
     "text": [
      "Strong Positive correlation between price and sqaure footage is : 0.9816267974803425\n"
     ]
    }
   ],
   "source": [
    "# 4. Correlation between price and square footage\n",
    "correlation_price_sqft = np.corrcoef(prices, square_footage)[0,1]\n",
    "\n",
    "if correlation_price_sqft > 0:\n",
    "    if correlation_price_sqft >= 0.9:\n",
    "        print(f\"Strong Positive correlation between price and sqaure footage is : {correlation_price_sqft}\")   \n",
    "    elif correlation_price_sqft < 0.9 and correlation_price_sqft >= 0.75:\n",
    "        print(f\"high Positive correlation between price and sqaure footage is : {correlation_price_sqft}\") \n",
    "    elif correlation_price_sqft < 0.75 and correlation_price_sqft >= 0.25:\n",
    "        print(f\"Moderate Positive correlation between price and sqaure footage is : {correlation_price_sqft}\") \n",
    "    elif correlation_price_sqft < 0.25 and correlation_price_sqft >= 0:\n",
    "        print(f\"Low Positive correlation between price and sqaure footage is : {correlation_price_sqft}\") \n",
    "elif correlation_price_sqft < 0:\n",
    "    if correlation_price_sqft >= -0.9:\n",
    "        print(f\"Strong Negative correlation between price and sqaure footage is : {correlation_price_sqft}\")   \n",
    "    elif correlation_price_sqft < -0.9 and correlation_price_sqft >= -0.75:\n",
    "        print(f\"high Negative correlation between price and sqaure footage is : {correlation_price_sqft}\") \n",
    "    elif correlation_price_sqft < -0.75 and correlation_price_sqft >= -0.25:\n",
    "        print(f\"Moderate Negative correlation between price and sqaure footage is : {correlation_price_sqft}\") \n",
    "    elif correlation_price_sqft < -0.25 and correlation_price_sqft >= 0:\n",
    "        print(f\"Low Negative correlation between price and sqaure footage is : {correlation_price_sqft}\") \n",
    "else:\n",
    "    print(\"No Correlation\")"
   ]
  },
  {
   "cell_type": "markdown",
   "id": "51f1bbe8-f5ea-48f8-b9a9-a1572c865e9f",
   "metadata": {},
   "source": [
    "<h3>Filter properties priced above $500,000 and calculate their average square footage </h3>"
   ]
  },
  {
   "cell_type": "code",
   "execution_count": 21,
   "id": "4ae22665-787e-4b81-9a2d-b9045940827e",
   "metadata": {},
   "outputs": [
    {
     "name": "stdout",
     "output_type": "stream",
     "text": [
      "the average after filtering is : 2300.0\n"
     ]
    }
   ],
   "source": [
    "# 5. Filter properties priced above $500,000 and calculate their average square footage\n",
    "filtered_sq_ft = square_footage[prices > 500000]\n",
    "average_sq_ft_filtered = np.mean(filtered_sq_ft)\n",
    "print(f\"the average after filtering is : {average_sq_ft_filtered}\")"
   ]
  },
  {
   "cell_type": "markdown",
   "id": "28ff0e97-6511-4a84-8361-70100af29af6",
   "metadata": {},
   "source": [
    "<h2>Numpy project 2.</h2>"
   ]
  },
  {
   "cell_type": "markdown",
   "id": "726bb6eb-f310-4de5-853f-7c8affd56424",
   "metadata": {},
   "source": [
    "The employee metrics: \r\n",
    "1. Employee ID (1 to 500) \r\n",
    "2. Age (randomly between 21 and 60) \r\n",
    "3. Monthly Sales (randomly between $1000 and $10000) \r\n",
    "4. Hours Worked per Week (randomly between 30 and 60) \r\n",
    "5. Performance Score (randomly between 1 and 10)nd 10) "
   ]
  },
  {
   "cell_type": "code",
   "execution_count": 35,
   "id": "b405e3b7-46a7-4642-834f-d40dc2874c95",
   "metadata": {},
   "outputs": [],
   "source": [
    "# Creating the dataset of 500 employee\n",
    "num_employees = 500\n",
    "np.random.seed(37)\n",
    "employee_data = [\n",
    "    {\n",
    "        \"Employee ID\": i + 1,\n",
    "        \"Age\": np.random.randint(21, 61),\n",
    "        \"Monthly Sales\": np.random.randint(1000, 10001),\n",
    "        \"Hours Worked per Week\": np.random.randint(30, 61),\n",
    "        \"Performance Score\": np.random.uniform(1, 10),\n",
    "    }\n",
    "    for i in range(num_employees)\n",
    "]\n",
    "employee_data = np.array(employee_data)"
   ]
  },
  {
   "cell_type": "markdown",
   "id": "bc93e0fa-2175-472d-9f86-1ec41293c922",
   "metadata": {},
   "source": [
    "<h3>Compute summary statistics (mean, median, standard deviation) for each metric.</h3>"
   ]
  },
  {
   "cell_type": "code",
   "execution_count": 46,
   "id": "92c4020e-1816-433d-8658-7104cd055a13",
   "metadata": {},
   "outputs": [
    {
     "name": "stdout",
     "output_type": "stream",
     "text": [
      "Average Age: 41.01\n",
      "Median Age: 41.00\n",
      "Age Standard Deviation: 11.27\n",
      "Average Monthly Sales: $5614.68\n",
      "Median Monthly Sales: $5417.50\n",
      "Monthly Sales Standard Deviation: $2574.93\n",
      "Average Hours Worked per Week: 44.92\n",
      "Median Hours Worked per Week: 45.00\n",
      "Hours Worked per Week Standard Deviation: 8.75\n",
      "Average Performance Score: 5.44\n",
      "Median Performance Score: 5.45\n",
      "Performance Score Standard Deviation: 2.60\n"
     ]
    }
   ],
   "source": [
    "# Compute summary stats for each metric\n",
    "def compute_stats(data,key):\n",
    "    values = [emp[key] for emp in data]\n",
    "    mean = np.mean(values)\n",
    "    median = np.median(values)\n",
    "    std_dev = np.std(values)\n",
    "    return mean, median, std_dev\n",
    "\n",
    "age_stats = compute_stats(employee_data, \"Age\")\n",
    "sales_stats = compute_stats(employee_data, \"Monthly Sales\")\n",
    "hours_stats = compute_stats(employee_data, \"Hours Worked per Week\")\n",
    "performance_stats = compute_stats(employee_data, \"Performance Score\")\n",
    "\n",
    "average_age = age_stats[0]\n",
    "average_sales = sales_stats[0]\n",
    "average_hours = hours_stats[0]\n",
    "average_performance = performance_stats[0]\n",
    "\n",
    "print(f\"Average Age: {average_age:.2f}\")\n",
    "print(f\"Median Age: {age_stats[1]:.2f}\")\n",
    "print(f\"Age Standard Deviation: {age_stats[2]:.2f}\")\n",
    "print(f\"Average Monthly Sales: ${average_sales:.2f}\")\n",
    "print(f\"Median Monthly Sales: ${sales_stats[1]:.2f}\")\n",
    "print(f\"Monthly Sales Standard Deviation: ${sales_stats[2]:.2f}\")\n",
    "print(f\"Average Hours Worked per Week: {average_hours:.2f}\")\n",
    "print(f\"Median Hours Worked per Week: {hours_stats[1]:.2f}\")\n",
    "print(f\"Hours Worked per Week Standard Deviation: {hours_stats[2]:.2f}\")\n",
    "print(f\"Average Performance Score: {average_performance:.2f}\")\n",
    "print(f\"Median Performance Score: {performance_stats[1]:.2f}\")\n",
    "print(f\"Performance Score Standard Deviation: {performance_stats[2]:.2f}\")"
   ]
  },
  {
   "cell_type": "markdown",
   "id": "85aa2aaa-1809-4cc8-ad8a-7a89b8502fe9",
   "metadata": {},
   "source": [
    "<h3>Find the correlation between hours worked and monthly sales</h3>"
   ]
  },
  {
   "cell_type": "code",
   "execution_count": 49,
   "id": "ed78b4c3-2bcc-430e-a62b-7298aac0bc8d",
   "metadata": {},
   "outputs": [
    {
     "name": "stdout",
     "output_type": "stream",
     "text": [
      "Low Positive correlation between hours worked and monthly sales is : 0.01489064070041333\n"
     ]
    }
   ],
   "source": [
    "# Compute correlation between Hours Worked and Monthly Sales\n",
    "hours = np.array([emp[\"Hours Worked per Week\"] for emp in employee_data])\n",
    "sales = np.array([emp[\"Monthly Sales\"] for emp in employee_data])\n",
    "correlation = np.corrcoef(hours, sales)[0, 1]\n",
    "# check if the correlation is positive\n",
    "if correlation > 0:\n",
    "    # check the correlation degree\n",
    "    if correlation >= 0.9:\n",
    "        print(f\"Strong Positive correlation between hours worked and monthly sales is : {correlation}\")   \n",
    "    elif correlation < 0.9 and correlation >= 0.75:\n",
    "        print(f\"high Positive correlation between hours worked and monthly sales is : {correlation}\") \n",
    "    elif correlation < 0.75 and correlation >= 0.25:\n",
    "        print(f\"Moderate Positive correlation between hours worked and monthly sales is : {correlation}\") \n",
    "    elif correlation < 0.25 and correlation >= 0:\n",
    "        print(f\"Low Positive correlation between hours worked and monthly sales is : {correlation}\") \n",
    "\n",
    "# check if the correlation is negative\n",
    "elif correlation < 0:\n",
    "    # check the correlation degree\n",
    "    if correlation >= -0.9:\n",
    "        print(f\"Strong Negative correlation between hours worked and monthly sales is : {correlation}\")   \n",
    "    elif correlation < -0.9 and correlation >= -0.75:\n",
    "        print(f\"high Negative correlation between hours worked and monthly sales is : {correlation}\") \n",
    "    elif correlation < -0.75 and correlation >= -0.25:\n",
    "        print(f\"Moderate Negative correlation between hours worked and monthly sales is : {correlation}\") \n",
    "    elif correlation < -0.25 and correlation >= 0:\n",
    "        print(f\"Low Negative correlation between hours worked and monthly sales is : {correlation}\") \n",
    "\n",
    "# check if no correlation\n",
    "else:\n",
    "    print(\"No Correlation\")"
   ]
  },
  {
   "cell_type": "markdown",
   "id": "159a6877-27c5-4d2d-8306-b45bb9196c0d",
   "metadata": {},
   "source": [
    "<h3>Identify employees with exceptional performance (Performance Score > 8 and Monthly \r\n",
    "Sales > $8000 </h3>"
   ]
  },
  {
   "cell_type": "code",
   "execution_count": 71,
   "id": "e57dcea5-e410-4b46-afca-0dc6e3ab4c4d",
   "metadata": {},
   "outputs": [
    {
     "name": "stdout",
     "output_type": "stream",
     "text": [
      "\n",
      "Exceptional Employees:\n",
      "\n",
      "Employee ID Age     Monthly Sales  Hours Worked   Performance Score \n",
      "--------------------------------------------------------------------\n",
      "18          42      $8360          53             9.79              \n",
      "27          30      $8764          59             8.03              \n",
      "38          30      $8596          60             8.22              \n",
      "67          37      $8386          56             8.16              \n",
      "94          31      $8433          51             9.00              \n",
      "103         28      $8973          44             8.34              \n",
      "149         52      $9756          37             9.79              \n",
      "179         44      $9034          41             9.64              \n",
      "185         37      $8077          42             9.55              \n",
      "210         36      $9876          53             9.07              \n",
      "219         58      $9105          50             8.61              \n",
      "257         23      $9495          54             8.55              \n",
      "285         33      $8956          49             8.01              \n",
      "294         35      $8761          39             8.28              \n",
      "304         49      $9850          53             9.97              \n",
      "308         21      $9235          46             9.75              \n",
      "321         29      $9729          59             9.99              \n",
      "376         53      $9269          58             9.64              \n",
      "379         49      $9856          60             8.34              \n",
      "439         51      $8437          35             8.48              \n",
      "440         22      $8025          39             9.62              \n"
     ]
    }
   ],
   "source": [
    "exceptional_employees = [\n",
    "    emp for emp in employee_data\n",
    "    if emp[\"Performance Score\"] > 8 and emp[\"Monthly Sales\"] > 8000\n",
    "]\n",
    "\n",
    "if exceptional_employees:\n",
    "    print(\"\\nExceptional Employees:\\n\")\n",
    "    print(f\"{'Employee ID':<12}{'Age':<8}{'Monthly Sales':<15}{'Hours Worked':<15}{'Performance Score':<18}\")\n",
    "    print(\"-\" * 68)\n",
    "    for emp in exceptional_employees:\n",
    "        print(f\"{emp['Employee ID']:<12}{emp['Age']:<8}${emp['Monthly Sales']:<14}{emp['Hours Worked per Week']:<15}{emp['Performance Score']:<18.2f}\")\n",
    "else:\n",
    "    print(\"\\nNo exceptional employees found.\")\n"
   ]
  },
  {
   "cell_type": "code",
   "execution_count": 65,
   "id": "6b0cd392-e983-4dc0-804f-c889d04281c8",
   "metadata": {},
   "outputs": [],
   "source": [
    "import matplotlib.pyplot as plt"
   ]
  },
  {
   "cell_type": "code",
   "execution_count": 67,
   "id": "e74b3793-0b94-428d-b015-a6a91cc28f1d",
   "metadata": {},
   "outputs": [
    {
     "data": {
      "image/png": "[encoded data removed]",
      "text/plain": [
       "<Figure size 1200x600 with 2 Axes>"
      ]
     },
     "metadata": {},
     "output_type": "display_data"
    }
   ],
   "source": [
    "# Visualization: Distribution of Performance Scores and Monthly Sales\n",
    "performance_scores = [emp[\"Performance Score\"] for emp in employee_data]\n",
    "monthly_sales = [emp[\"Monthly Sales\"] for emp in employee_data]\n",
    "\n",
    "plt.figure(figsize=(12, 6))\n",
    "\n",
    "# Histogram for Performance Scores\n",
    "plt.subplot(1, 2, 1)\n",
    "plt.hist(performance_scores, bins=20, color='skyblue', edgecolor='black')\n",
    "plt.title('Distribution of Performance Scores')\n",
    "plt.xlabel('Performance Score')\n",
    "plt.ylabel('Frequency')\n",
    "\n",
    "# Histogram for Monthly Sales\n",
    "plt.subplot(1, 2, 2)\n",
    "plt.hist(monthly_sales, bins=20, color='salmon', edgecolor='black')\n",
    "plt.title('Distribution of Monthly Sales')\n",
    "plt.xlabel('Monthly Sales ($)')\n",
    "plt.ylabel('Frequency')\n",
    "\n",
    "plt.tight_layout()\n",
    "plt.show()"
   ]
  }
 ],
 "metadata": {
  "kernelspec": {
   "display_name": "Python 3 (ipykernel)",
   "language": "python",
   "name": "python3"
  },
  "language_info": {
   "codemirror_mode": {
    "name": "ipython",
    "version": 3
   },
   "file_extension": ".py",
   "mimetype": "text/x-python",
   "name": "python",
   "nbconvert_exporter": "python",
   "pygments_lexer": "ipython3",
   "version": "3.12.4"
  }
 },
 "nbformat": 4,
 "nbformat_minor": 5
}
